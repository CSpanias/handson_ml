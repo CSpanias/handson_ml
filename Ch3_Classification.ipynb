{
 "cells": [
  {
   "cell_type": "code",
   "execution_count": 44,
   "id": "f4e36139",
   "metadata": {},
   "outputs": [],
   "source": [
    "# Python ≥3.5 is required\n",
    "import sys\n",
    "assert sys.version_info >= (3, 5)\n",
    "\n",
    "# Is this notebook running on Colab or Kaggle?\n",
    "IS_COLAB = \"google.colab\" in sys.modules\n",
    "IS_KAGGLE = \"kaggle_secrets\" in sys.modules\n",
    "\n",
    "# Scikit-Learn ≥0.20 is required\n",
    "import sklearn\n",
    "assert sklearn.__version__ >= \"0.20\"\n",
    "\n",
    "# Common imports\n",
    "import numpy as np\n",
    "import os\n",
    "\n",
    "# to make this notebook's output stable across runs\n",
    "np.random.seed(42)\n",
    "\n",
    "# To plot pretty figures\n",
    "%matplotlib inline\n",
    "import matplotlib as mpl\n",
    "import matplotlib.pyplot as plt\n",
    "mpl.rc('axes', labelsize=14)\n",
    "mpl.rc('xtick', labelsize=12)\n",
    "mpl.rc('ytick', labelsize=12)\n",
    "\n",
    "# Where to save the figures\n",
    "PROJECT_ROOT_DIR = \".\"\n",
    "CHAPTER_ID = \"classification\"\n",
    "IMAGES_PATH = os.path.join(PROJECT_ROOT_DIR, \"images\", CHAPTER_ID)\n",
    "os.makedirs(IMAGES_PATH, exist_ok=True)\n",
    "\n",
    "def save_fig(fig_id, tight_layout=True, fig_extension=\"png\", resolution=300):\n",
    "    path = os.path.join(IMAGES_PATH, fig_id + \".\" + fig_extension)\n",
    "    print(\"Saving figure\", fig_id)\n",
    "    if tight_layout:\n",
    "        plt.tight_layout()\n",
    "    plt.savefig(path, format=fig_extension, dpi=resolution)\n",
    "    \n",
    "    \n",
    "def plot_digit(data):\n",
    "    image = data.reshape(28, 28)\n",
    "    plt.imshow(image, cmap = mpl.cm.binary,\n",
    "               interpolation=\"nearest\")\n",
    "    plt.axis(\"off\")"
   ]
  },
  {
   "cell_type": "code",
   "execution_count": 2,
   "id": "9e84f0ef",
   "metadata": {},
   "outputs": [
    {
     "data": {
      "text/plain": [
       "dict_keys(['data', 'target', 'frame', 'categories', 'feature_names', 'target_names', 'DESCR', 'details', 'url'])"
      ]
     },
     "execution_count": 2,
     "metadata": {},
     "output_type": "execute_result"
    }
   ],
   "source": [
    "from sklearn.datasets import fetch_openml\n",
    "\n",
    "# import MNIST dataset\n",
    "mnist = fetch_openml('mnist_784', version=1)\n",
    "\n",
    "# print the keys of the dataset\n",
    "mnist.keys()"
   ]
  },
  {
   "cell_type": "markdown",
   "id": "af123692",
   "metadata": {},
   "source": [
    "Datasets loaded by Scikit-Learn have a dictionary structure:\n",
    "* A **DESCR** key describing the dataset.\n",
    "* A **data** key containing a dataframe (as_frame=False for array) with one row per instance and once column per feature.\n",
    "* A **target** key containing a series with the labels."
   ]
  },
  {
   "cell_type": "code",
   "execution_count": 3,
   "id": "fd1a254b",
   "metadata": {},
   "outputs": [
    {
     "data": {
      "text/plain": [
       "(numpy.ndarray, pandas.core.arrays.categorical.Categorical)"
      ]
     },
     "execution_count": 3,
     "metadata": {},
     "output_type": "execute_result"
    }
   ],
   "source": [
    "import numpy as np\n",
    "\n",
    "# assign data to X and target to y\n",
    "X, y = mnist[\"data\"], mnist[\"target\"]\n",
    "\n",
    "# print the shape of X and y\n",
    "X.shape, y.shape\n",
    "\n",
    "# convert X and y to arrays\n",
    "X = X.values\n",
    "y = y.values\n",
    "\n",
    "# check their type\n",
    "type(X), type(y)"
   ]
  },
  {
   "cell_type": "markdown",
   "id": "7c979950",
   "metadata": {},
   "source": [
    "There are 70,000 images (rows) and 784 features (columns). \n",
    "\n",
    "Each feature represents 1 pixel's intensity (1 image = 28 x 28 pixels), from 0 (white) to 255 (black)."
   ]
  },
  {
   "cell_type": "code",
   "execution_count": 4,
   "id": "c5780596",
   "metadata": {},
   "outputs": [
    {
     "data": {
      "image/png": "[encoded data removed]",
      "text/plain": [
       "<Figure size 432x288 with 1 Axes>"
      ]
     },
     "metadata": {
      "needs_background": "light"
     },
     "output_type": "display_data"
    }
   ],
   "source": [
    "import matplotlib as mpl\n",
    "import matplotlib.pyplot as plt\n",
    "\n",
    "# check one digit from the dataset\n",
    "some_digit = X[0]\n",
    "\n",
    "# reshape image to 28 x 28 for a more intuitive representation\n",
    "some_digit_image = some_digit.reshape(28, 28)\n",
    "\n",
    "# show image\n",
    "plt.imshow(some_digit_image, cmap='binary')\n",
    "plt.axis(\"off\")\n",
    "plt.show()"
   ]
  },
  {
   "cell_type": "code",
   "execution_count": 5,
   "id": "4dc2f2eb",
   "metadata": {},
   "outputs": [
    {
     "data": {
      "text/plain": [
       "'5'"
      ]
     },
     "execution_count": 5,
     "metadata": {},
     "output_type": "execute_result"
    }
   ],
   "source": [
    "# check its label\n",
    "y[0]"
   ]
  },
  {
   "cell_type": "markdown",
   "id": "81631fdf",
   "metadata": {},
   "source": [
    "Notice that y is of type object."
   ]
  },
  {
   "cell_type": "code",
   "execution_count": 6,
   "id": "97c499fd",
   "metadata": {},
   "outputs": [
    {
     "data": {
      "text/plain": [
       "pandas.core.arrays.categorical.Categorical"
      ]
     },
     "execution_count": 6,
     "metadata": {},
     "output_type": "execute_result"
    }
   ],
   "source": [
    "# check the data type of y\n",
    "type(y)"
   ]
  },
  {
   "cell_type": "markdown",
   "id": "6892123d",
   "metadata": {},
   "source": [
    "More info on numpy data types [here](https://numpy.org/doc/stable/user/basics.types.html)."
   ]
  },
  {
   "cell_type": "code",
   "execution_count": 7,
   "id": "8ca0b37f",
   "metadata": {},
   "outputs": [
    {
     "data": {
      "text/plain": [
       "dtype('uint8')"
      ]
     },
     "execution_count": 7,
     "metadata": {},
     "output_type": "execute_result"
    }
   ],
   "source": [
    "# convert y to integer\n",
    "y = y.astype(np.uint8)\n",
    "\n",
    "# check type of the y array\n",
    "y.dtype"
   ]
  },
  {
   "cell_type": "markdown",
   "id": "a297714e",
   "metadata": {},
   "source": [
    "Split the data into test and training sets."
   ]
  },
  {
   "cell_type": "code",
   "execution_count": 8,
   "id": "1839dea3",
   "metadata": {},
   "outputs": [],
   "source": [
    "# assign 60_000 rows for training and 10_000 for testing\n",
    "X_train, X_test, y_train, y_test = X[:60_000], X[60_000:], y[:60_000], y[60_000:]"
   ]
  },
  {
   "cell_type": "markdown",
   "id": "4c0ea6a9",
   "metadata": {},
   "source": [
    "<a name=\"BinaryClassification\"> </a>\n",
    "# Training a Binary Classifier\n",
    "\n",
    "Train the **5-detector**, capable of distinguishing between just 2 classes: 5 and not-5."
   ]
  },
  {
   "cell_type": "code",
   "execution_count": 9,
   "id": "101ed86d",
   "metadata": {},
   "outputs": [],
   "source": [
    "# True for all 5s, False for all others\n",
    "y_train_5 = (y_train == 5)\n",
    "\n",
    "y_test_5 = (y_test == 5)"
   ]
  },
  {
   "cell_type": "code",
   "execution_count": 10,
   "id": "3c0b665b",
   "metadata": {},
   "outputs": [
    {
     "data": {
      "text/plain": [
       "array([ True])"
      ]
     },
     "execution_count": 10,
     "metadata": {},
     "output_type": "execute_result"
    }
   ],
   "source": [
    "# train a Stochastic Gradient Descent (SGD) Classifier\n",
    "from sklearn.linear_model import SGDClassifier\n",
    "\n",
    "# create an SGDC instance\n",
    "sgd_clf = SGDClassifier(random_state=42)\n",
    "\n",
    "# fit SGDC on training data\n",
    "sgd_clf.fit(X_train, y_train_5)\n",
    "\n",
    "# make predictions\n",
    "sgd_clf.predict([some_digit])"
   ]
  },
  {
   "cell_type": "markdown",
   "id": "be8edda2",
   "metadata": {},
   "source": [
    "This was indeed a 5!"
   ]
  },
  {
   "cell_type": "code",
   "execution_count": 11,
   "id": "cbe3c406",
   "metadata": {},
   "outputs": [
    {
     "data": {
      "text/plain": [
       "5"
      ]
     },
     "execution_count": 11,
     "metadata": {},
     "output_type": "execute_result"
    }
   ],
   "source": [
    "y[0]"
   ]
  },
  {
   "cell_type": "markdown",
   "id": "713c49fc",
   "metadata": {},
   "source": [
    "<a name=\"PerfMeasures\"> </a>\n",
    "# Performance Measures"
   ]
  },
  {
   "cell_type": "code",
   "execution_count": 12,
   "id": "6b13b595",
   "metadata": {},
   "outputs": [
    {
     "name": "stdout",
     "output_type": "stream",
     "text": [
      "0.9669\n",
      "0.91625\n",
      "0.96785\n"
     ]
    }
   ],
   "source": [
    "from sklearn.model_selection import StratifiedKFold\n",
    "from sklearn.base import clone\n",
    "\n",
    "skfolds = StratifiedKFold(n_splits=3, shuffle=True, random_state=42)\n",
    "\n",
    "for train_index, test_index in skfolds.split(X_train, y_train_5):\n",
    "    clone_clf = clone(sgd_clf)\n",
    "    X_train_folds = X_train[train_index]\n",
    "    y_train_folds = y_train_5[train_index]\n",
    "    X_test_fold = X_train[test_index]\n",
    "    y_test_fold = y_train_5[test_index]\n",
    "    \n",
    "    clone_clf.fit(X_train_folds, y_train_folds)\n",
    "    y_pred = clone_clf.predict(X_test_fold)\n",
    "    n_correct = sum(y_pred == y_test_fold)\n",
    "    print(n_correct / len(y_pred))"
   ]
  },
  {
   "cell_type": "code",
   "execution_count": 13,
   "id": "86333f9c",
   "metadata": {},
   "outputs": [
    {
     "data": {
      "text/plain": [
       "array([0.95035, 0.96035, 0.9604 ])"
      ]
     },
     "execution_count": 13,
     "metadata": {},
     "output_type": "execute_result"
    }
   ],
   "source": [
    "from sklearn.model_selection import cross_val_score\n",
    "\n",
    "cross_val_score(sgd_clf, X_train, y_train_5, cv=3, scoring='accuracy')"
   ]
  },
  {
   "cell_type": "markdown",
   "id": "ead4960a",
   "metadata": {},
   "source": [
    "Check vs. **Null Accuracy**, i.e. always predict that is not a 5."
   ]
  },
  {
   "cell_type": "code",
   "execution_count": 14,
   "id": "387ac587",
   "metadata": {},
   "outputs": [
    {
     "data": {
      "text/plain": [
       "array([0.91125, 0.90855, 0.90915])"
      ]
     },
     "execution_count": 14,
     "metadata": {},
     "output_type": "execute_result"
    }
   ],
   "source": [
    "from sklearn.base import BaseEstimator\n",
    "\n",
    "class Never5Classifier(BaseEstimator):\n",
    "    def fit(self, X, y=None):\n",
    "        return self\n",
    "    def predict(self, X):\n",
    "        return np.zeros((len(X), 1), dtype=bool)\n",
    "    \n",
    "never_5_clf = Never5Classifier()\n",
    "\n",
    "cross_val_score(never_5_clf, X_train, y_train_5, cv=3, scoring='accuracy')"
   ]
  },
  {
   "cell_type": "markdown",
   "id": "551fc784",
   "metadata": {},
   "source": [
    "Only 10% are 5s, thus, its is right 90% of the time! This is why **accuracy** is generally **not the preferred performance measure for classifiers**, in particular for *skewed datasets*."
   ]
  },
  {
   "cell_type": "markdown",
   "id": "7ff6a392",
   "metadata": {},
   "source": [
    "<a name=\"ConfusionMatrix\"> </a>\n",
    "# Confusion Matrix"
   ]
  },
  {
   "cell_type": "code",
   "execution_count": 15,
   "id": "db6d4b5a",
   "metadata": {},
   "outputs": [],
   "source": [
    "from sklearn.model_selection import cross_val_predict\n",
    "\n",
    "y_train_pred = cross_val_predict(sgd_clf, X_train, y_train_5, cv=3)"
   ]
  },
  {
   "cell_type": "markdown",
   "id": "2cff1cdc",
   "metadata": {},
   "source": [
    "```cross_val_predict()``` performs K-fold CV, but instead of returning the evaluation scores like ```cross_val_score```, it **returns the predictions** made on each test fold."
   ]
  },
  {
   "cell_type": "code",
   "execution_count": 16,
   "id": "eae4163b",
   "metadata": {},
   "outputs": [
    {
     "data": {
      "text/plain": [
       "array([[53892,   687],\n",
       "       [ 1891,  3530]], dtype=int64)"
      ]
     },
     "execution_count": 16,
     "metadata": {},
     "output_type": "execute_result"
    }
   ],
   "source": [
    "from sklearn.metrics import confusion_matrix\n",
    "\n",
    "confusion_matrix(y_train_5, y_train_pred)"
   ]
  },
  {
   "cell_type": "code",
   "execution_count": 17,
   "id": "f8040a01",
   "metadata": {},
   "outputs": [
    {
     "data": {
      "text/plain": [
       "(0.8370879772350012, 0.6511713705958311)"
      ]
     },
     "execution_count": 17,
     "metadata": {},
     "output_type": "execute_result"
    }
   ],
   "source": [
    "from sklearn.metrics import precision_score, recall_score\n",
    "\n",
    "precision_score(y_train_5, y_train_pred), recall_score(y_train_5, y_train_pred)"
   ]
  },
  {
   "cell_type": "code",
   "execution_count": 18,
   "id": "3a8cb107",
   "metadata": {},
   "outputs": [
    {
     "data": {
      "text/plain": [
       "0.7325171197343846"
      ]
     },
     "execution_count": 18,
     "metadata": {},
     "output_type": "execute_result"
    }
   ],
   "source": [
    "from sklearn.metrics import f1_score\n",
    "\n",
    "f1_score(y_train_5, y_train_pred)"
   ]
  },
  {
   "cell_type": "code",
   "execution_count": 19,
   "id": "727ea4ee",
   "metadata": {},
   "outputs": [
    {
     "name": "stdout",
     "output_type": "stream",
     "text": [
      "[2164.22030239]\n"
     ]
    },
    {
     "data": {
      "text/plain": [
       "array([ True])"
      ]
     },
     "execution_count": 19,
     "metadata": {},
     "output_type": "execute_result"
    }
   ],
   "source": [
    "y_scores = sgd_clf.decision_function([some_digit])\n",
    "print(y_scores)\n",
    "\n",
    "threshold = 0\n",
    "y_some_digit_pred = (y_scores > threshold)\n",
    "y_some_digit_pred"
   ]
  },
  {
   "cell_type": "code",
   "execution_count": 20,
   "id": "4af24840",
   "metadata": {},
   "outputs": [
    {
     "data": {
      "text/plain": [
       "array([False])"
      ]
     },
     "execution_count": 20,
     "metadata": {},
     "output_type": "execute_result"
    }
   ],
   "source": [
    "threshold = 8000\n",
    "y_some_digit_pred = (y_scores > threshold)\n",
    "y_some_digit_pred"
   ]
  },
  {
   "cell_type": "markdown",
   "id": "26511bda",
   "metadata": {},
   "source": [
    "Use ```cross_val_predict()``` for choosing which threshold to use."
   ]
  },
  {
   "cell_type": "code",
   "execution_count": 21,
   "id": "a39d8533",
   "metadata": {},
   "outputs": [],
   "source": [
    "y_scores = cross_val_predict(sgd_clf, X_train, y_train_5, cv=3,\n",
    "                            method=\"decision_function\")"
   ]
  },
  {
   "cell_type": "markdown",
   "id": "84abf012",
   "metadata": {},
   "source": [
    "Use ```precision_recall_curve()``` to compute precision and recall scores for all possible thresholds."
   ]
  },
  {
   "cell_type": "code",
   "execution_count": 22,
   "id": "a82568e7",
   "metadata": {},
   "outputs": [],
   "source": [
    "from sklearn.metrics import precision_recall_curve\n",
    "\n",
    "precisions, recalls, thresholds = precision_recall_curve(y_train_5, y_scores)"
   ]
  },
  {
   "cell_type": "markdown",
   "id": "ee76b6d0",
   "metadata": {},
   "source": [
    "Plot decision and recall as functions of the threshold value."
   ]
  },
  {
   "cell_type": "code",
   "execution_count": 23,
   "id": "f4417b4a",
   "metadata": {},
   "outputs": [
    {
     "data": {
      "image/png": "[encoded data removed]",
      "text/plain": [
       "<Figure size 576x288 with 1 Axes>"
      ]
     },
     "metadata": {
      "needs_background": "light"
     },
     "output_type": "display_data"
    },
    {
     "name": "stdout",
     "output_type": "stream",
     "text": [
      "Saving figure precision_recall_vs_threshold_plot\n"
     ]
    },
    {
     "data": {
      "text/plain": [
       "<Figure size 432x288 with 0 Axes>"
      ]
     },
     "metadata": {},
     "output_type": "display_data"
    }
   ],
   "source": [
    "def plot_precision_recall_vs_threshold(precisions, recalls, thresholds):\n",
    "    #fig, ax = plt.subplots(figsize=(15,5))\n",
    "    plt.plot(thresholds, precisions[:-1], \"b--\", label=\"Precision\")\n",
    "    plt.plot(thresholds, recalls[:-1], \"g-\", label=\"Recall\")\n",
    "    plt.legend(loc=\"center right\", fontsize=16)\n",
    "    plt.xlabel(\"Threshold\", fontsize=16)\n",
    "    plt.grid(True)\n",
    "    plt.axis([-50000, 50000, 0, 1])\n",
    "\n",
    "    \n",
    "recall_90_precision = recalls[np.argmax(precisions >= 0.90)]\n",
    "threshold_90_precision = thresholds[np.argmax(precisions >= 0.90)]\n",
    "\n",
    "\n",
    "plt.figure(figsize=(8, 4))\n",
    "plot_precision_recall_vs_threshold(precisions, recalls, thresholds)\n",
    "plt.plot([threshold_90_precision, threshold_90_precision], [0., 0.9], \"r:\")\n",
    "plt.plot([-50000, threshold_90_precision], [0.9, 0.9], \"r:\")\n",
    "plt.plot([-50000, threshold_90_precision], [recall_90_precision, recall_90_precision], \"r:\")\n",
    "plt.plot([threshold_90_precision], [0.9], \"ro\")\n",
    "plt.plot([threshold_90_precision], [recall_90_precision], \"ro\")\n",
    "\n",
    "plt.show()\n",
    "    \n",
    "save_fig(\"precision_recall_vs_threshold_plot\")"
   ]
  },
  {
   "cell_type": "code",
   "execution_count": 24,
   "id": "79726e39",
   "metadata": {},
   "outputs": [
    {
     "name": "stdout",
     "output_type": "stream",
     "text": [
      "Saving figure roc_curve_plot\n"
     ]
    },
    {
     "data": {
      "image/png": "[encoded data removed]",
      "text/plain": [
       "<Figure size 576x432 with 1 Axes>"
      ]
     },
     "metadata": {
      "needs_background": "light"
     },
     "output_type": "display_data"
    }
   ],
   "source": [
    "from sklearn.metrics import roc_curve\n",
    "\n",
    "fpr, tpr, thresholds = roc_curve(y_train_5, y_scores)\n",
    "\n",
    "def plot_roc_curve(fpr, tpr, label=None):\n",
    "    plt.plot(fpr, tpr, linewidth=2, label=label)\n",
    "    plt.plot([0, 1], [0, 1], 'k--') # dashed diagonal\n",
    "    plt.axis([0, 1, 0, 1])                                    # Not shown\n",
    "    plt.xlabel('False Positive Rate (Fall-Out)', fontsize=16) # Not shown\n",
    "    plt.ylabel('True Positive Rate (Recall)', fontsize=16)    # Not shown\n",
    "    plt.grid(True)                                            # Not shown\n",
    "\n",
    "plt.figure(figsize=(8, 6))                                    # Not shown\n",
    "plot_roc_curve(fpr, tpr)\n",
    "fpr_90 = fpr[np.argmax(tpr >= recall_90_precision)]           # Not shown\n",
    "plt.plot([fpr_90, fpr_90], [0., recall_90_precision], \"r:\")   # Not shown\n",
    "plt.plot([0.0, fpr_90], [recall_90_precision, recall_90_precision], \"r:\")  # Not shown\n",
    "plt.plot([fpr_90], [recall_90_precision], \"ro\")               # Not shown\n",
    "save_fig(\"roc_curve_plot\")                                    # Not shown\n",
    "plt.show()"
   ]
  },
  {
   "cell_type": "code",
   "execution_count": 25,
   "id": "ffaab1ac",
   "metadata": {},
   "outputs": [
    {
     "data": {
      "text/plain": [
       "0.9604938554008616"
      ]
     },
     "execution_count": 25,
     "metadata": {},
     "output_type": "execute_result"
    }
   ],
   "source": [
    "from sklearn.metrics import roc_auc_score\n",
    "\n",
    "roc_auc_score(y_train_5, y_scores)"
   ]
  },
  {
   "cell_type": "code",
   "execution_count": 26,
   "id": "ef5cb3a0",
   "metadata": {},
   "outputs": [
    {
     "data": {
      "image/png": "[encoded data removed]",
      "text/plain": [
       "<Figure size 432x288 with 1 Axes>"
      ]
     },
     "metadata": {
      "needs_background": "light"
     },
     "output_type": "display_data"
    }
   ],
   "source": [
    "from sklearn.ensemble import RandomForestClassifier\n",
    "\n",
    "forest_clf = RandomForestClassifier(random_state=42)\n",
    "\n",
    "y_probas_forest = cross_val_predict(forest_clf, X_train, y_train_5, cv=3,\n",
    "                                   method=\"predict_proba\")\n",
    "\n",
    "y_scores_forest = y_probas_forest[:, 1] # score = prba of positive class\n",
    "fpr_forest, tpr_forest, thresholds_forest = roc_curve(y_train_5, y_scores_forest)\n",
    "\n",
    "plt.plot(fpr, tpr, \"b:\", label=\"SGD\")\n",
    "plot_roc_curve(fpr_forest, tpr_forest, \"Random Forest\")\n",
    "plt.legend(loc=\"lower right\")\n",
    "plt.show()"
   ]
  },
  {
   "cell_type": "code",
   "execution_count": 27,
   "id": "7265bb4d",
   "metadata": {},
   "outputs": [
    {
     "data": {
      "text/plain": [
       "0.9983436731328145"
      ]
     },
     "execution_count": 27,
     "metadata": {},
     "output_type": "execute_result"
    }
   ],
   "source": [
    "roc_auc_score(y_train_5, y_scores_forest)"
   ]
  },
  {
   "cell_type": "markdown",
   "id": "dbb6ba77",
   "metadata": {},
   "source": [
    "<a name=\"MulticlassClassification\"> </a>\n",
    "# Multiclass Classification"
   ]
  },
  {
   "cell_type": "code",
   "execution_count": 29,
   "id": "cb9d0695",
   "metadata": {},
   "outputs": [
    {
     "data": {
      "text/plain": [
       "array([5], dtype=uint8)"
      ]
     },
     "execution_count": 29,
     "metadata": {},
     "output_type": "execute_result"
    }
   ],
   "source": [
    "from sklearn.svm import SVC\n",
    "\n",
    "svm_clf = SVC(gamma=\"auto\", random_state=42)\n",
    "svm_clf.fit(X_train[:1000], y_train[:1000]) # y_train, not y_train_5\n",
    "svm_clf.predict([some_digit])"
   ]
  },
  {
   "cell_type": "code",
   "execution_count": 30,
   "id": "cc0a4606",
   "metadata": {},
   "outputs": [
    {
     "name": "stdout",
     "output_type": "stream",
     "text": [
      "[[ 2.81585438  7.09167958  3.82972099  0.79365551  5.8885703   9.29718395\n",
      "   1.79862509  8.10392157 -0.228207    4.83753243]]\n",
      "5\n",
      "[0 1 2 3 4 5 6 7 8 9]\n",
      "5\n"
     ]
    }
   ],
   "source": [
    "some_digit_scores = svm_clf.decision_function([some_digit])\n",
    "\n",
    "# it returns 10 scores per instance instead of 1\n",
    "print(some_digit_scores)\n",
    "\n",
    "# returns the index of the winning class\n",
    "print(np.argmax(some_digit_scores))\n",
    "\n",
    "# the classes of our dataset\n",
    "print(svm_clf.classes_)\n",
    "\n",
    "# return the value of the winning index \n",
    "print(svm_clf.classes_[5])"
   ]
  },
  {
   "cell_type": "markdown",
   "id": "52cd36a9",
   "metadata": {},
   "source": [
    "# Create a multiclass classifier using the OvR strategy based on an SVC."
   ]
  },
  {
   "cell_type": "code",
   "execution_count": 31,
   "id": "04e2cc74",
   "metadata": {},
   "outputs": [
    {
     "name": "stdout",
     "output_type": "stream",
     "text": [
      "[5]\n",
      "10\n"
     ]
    }
   ],
   "source": [
    "from sklearn.multiclass import OneVsRestClassifier\n",
    "\n",
    "ovr_clf = OneVsRestClassifier(SVC())\n",
    "\n",
    "ovr_clf.fit(X_train, y_train)\n",
    "\n",
    "print(ovr_clf.predict([some_digit]))\n",
    "\n",
    "print(len(ovr_clf.estimators_))"
   ]
  },
  {
   "cell_type": "markdown",
   "id": "c78a4d1f",
   "metadata": {},
   "source": [
    "Training an SGDClassifier."
   ]
  },
  {
   "cell_type": "code",
   "execution_count": 35,
   "id": "bf3eb5dd",
   "metadata": {},
   "outputs": [
    {
     "name": "stdout",
     "output_type": "stream",
     "text": [
      "[3]\n",
      "[[-31893.03095419 -34419.69069632  -9530.63950739   1823.73154031\n",
      "  -22320.14822878  -1385.80478895 -26188.91070951 -16147.51323997\n",
      "   -4604.35491274 -12050.767298  ]]\n"
     ]
    }
   ],
   "source": [
    "sgd_clf.fit(X_train, y_train)\n",
    "\n",
    "print(sgd_clf.predict([some_digit]))\n",
    "\n",
    "# returns 1 value per class because SGDs can directly classify instances into multiple classes\n",
    "print(sgd_clf.decision_function([some_digit]))"
   ]
  },
  {
   "cell_type": "code",
   "execution_count": 36,
   "id": "a602d417",
   "metadata": {},
   "outputs": [
    {
     "data": {
      "text/plain": [
       "array([0.87365, 0.85835, 0.8689 ])"
      ]
     },
     "execution_count": 36,
     "metadata": {},
     "output_type": "execute_result"
    }
   ],
   "source": [
    "# evalute SGDC\n",
    "cross_val_score(sgd_clf, X_train, y_train, cv=3, scoring='accuracy')"
   ]
  },
  {
   "cell_type": "code",
   "execution_count": 37,
   "id": "7c543719",
   "metadata": {},
   "outputs": [
    {
     "data": {
      "text/plain": [
       "array([0.8983, 0.891 , 0.9018])"
      ]
     },
     "execution_count": 37,
     "metadata": {},
     "output_type": "execute_result"
    }
   ],
   "source": [
    "# simply scaling the inputs\n",
    "from sklearn.preprocessing import StandardScaler\n",
    "\n",
    "scaler = StandardScaler()\n",
    "X_train_scaled = scaler.fit_transform(X_train.astype(np.float64))\n",
    "\n",
    "cross_val_score(sgd_clf, X_train_scaled, y_train, cv=3, scoring='accuracy')"
   ]
  },
  {
   "cell_type": "markdown",
   "id": "b3588948",
   "metadata": {},
   "source": [
    "<a name=\"ErrorAnalysis\"> </a>\n",
    "# Error Analysis"
   ]
  },
  {
   "cell_type": "code",
   "execution_count": 38,
   "id": "468fa935",
   "metadata": {},
   "outputs": [
    {
     "data": {
      "text/plain": [
       "array([[5577,    0,   22,    5,    8,   43,   36,    6,  225,    1],\n",
       "       [   0, 6400,   37,   24,    4,   44,    4,    7,  212,   10],\n",
       "       [  27,   27, 5220,   92,   73,   27,   67,   36,  378,   11],\n",
       "       [  22,   17,  117, 5227,    2,  203,   27,   40,  403,   73],\n",
       "       [  12,   14,   41,    9, 5182,   12,   34,   27,  347,  164],\n",
       "       [  27,   15,   30,  168,   53, 4444,   75,   14,  535,   60],\n",
       "       [  30,   15,   42,    3,   44,   97, 5552,    3,  131,    1],\n",
       "       [  21,   10,   51,   30,   49,   12,    3, 5684,  195,  210],\n",
       "       [  17,   63,   48,   86,    3,  126,   25,   10, 5429,   44],\n",
       "       [  25,   18,   30,   64,  118,   36,    1,  179,  371, 5107]],\n",
       "      dtype=int64)"
      ]
     },
     "execution_count": 38,
     "metadata": {},
     "output_type": "execute_result"
    }
   ],
   "source": [
    "# check the confusion matrix\n",
    "y_train_pred = cross_val_predict(sgd_clf, X_train_scaled, y_train, cv=3)\n",
    "conf_mx = confusion_matrix(y_train, y_train_pred)\n",
    "conf_mx"
   ]
  },
  {
   "cell_type": "code",
   "execution_count": 39,
   "id": "ef3af12c",
   "metadata": {},
   "outputs": [
    {
     "data": {
      "image/png": "[encoded data removed]",
      "text/plain": [
       "<Figure size 288x288 with 1 Axes>"
      ]
     },
     "metadata": {
      "needs_background": "light"
     },
     "output_type": "display_data"
    }
   ],
   "source": [
    "plt.matshow(conf_mx, cmap=plt.cm.gray)\n",
    "plt.show()"
   ]
  },
  {
   "cell_type": "code",
   "execution_count": 40,
   "id": "54101c51",
   "metadata": {},
   "outputs": [
    {
     "data": {
      "image/png": "[encoded data removed]",
      "text/plain": [
       "<Figure size 288x288 with 1 Axes>"
      ]
     },
     "metadata": {
      "needs_background": "light"
     },
     "output_type": "display_data"
    }
   ],
   "source": [
    "row_sums = conf_mx.sum(axis=1, keepdims=True)\n",
    "norm_conf_mx = conf_mx / row_sums\n",
    "\n",
    "# fill the diagonal with 0s to keep only the errors\n",
    "np.fill_diagonal(norm_conf_mx, 0)\n",
    "# plot the results\n",
    "plt.matshow(norm_conf_mx, cmap=plt.cm.gray)\n",
    "\n",
    "plt.show()"
   ]
  },
  {
   "cell_type": "markdown",
   "id": "0eceac2d",
   "metadata": {},
   "source": [
    "<a name=\"MultilabelClassification\"> </a>\n",
    "# Multilabel Classification\n",
    "\n",
    "A classification system that outputs multiple binary tags."
   ]
  },
  {
   "cell_type": "code",
   "execution_count": 41,
   "id": "8c5b17cd",
   "metadata": {},
   "outputs": [
    {
     "data": {
      "text/plain": [
       "array([[False,  True]])"
      ]
     },
     "execution_count": 41,
     "metadata": {},
     "output_type": "execute_result"
    }
   ],
   "source": [
    "from sklearn.neighbors import KNeighborsClassifier\n",
    "\n",
    "# classify the digit as large if it is >=7\n",
    "y_train_large = (y_train >= 7)\n",
    "\n",
    "# classify the digit as odd if % 2 == 1\n",
    "y_train_odd = (y_train % 2 == 1)\n",
    "\n",
    "# assign two labels per class (is it large? is it odd?)\n",
    "y_multilabel = np.c_[y_train_large, y_train_odd]\n",
    "\n",
    "# create a kNC instance (supports multilabel classification)\n",
    "knn_clf = KNeighborsClassifier()\n",
    "\n",
    "# fit kNC to our training data\n",
    "knn_clf.fit(X_train, y_multilabel)\n",
    "\n",
    "# predict the first digit, i.e., 5\n",
    "knn_clf.predict([some_digit])"
   ]
  },
  {
   "cell_type": "code",
   "execution_count": 42,
   "id": "458d78be",
   "metadata": {},
   "outputs": [
    {
     "data": {
      "text/plain": [
       "0.976410265560605"
      ]
     },
     "execution_count": 42,
     "metadata": {},
     "output_type": "execute_result"
    }
   ],
   "source": [
    "# predict using CV\n",
    "y_train_knn_pred = cross_val_predict(knn_clf, X_train, y_multilabel, cv=3)\n",
    "\n",
    "# calcualte f1 score across all labels\n",
    "f1_score(y_multilabel, y_train_knn_pred, average='macro')"
   ]
  },
  {
   "cell_type": "markdown",
   "id": "e14a642b",
   "metadata": {},
   "source": [
    "<a name=\"Multioutput Classification\"> </a>\n",
    "# Multioutput Classification\n",
    "\n",
    "A generalization of the multilabel classification where each label can be multiclass (it can have more than two possible values)."
   ]
  },
  {
   "cell_type": "code",
   "execution_count": 45,
   "id": "8e31f56d",
   "metadata": {},
   "outputs": [
    {
     "name": "stdout",
     "output_type": "stream",
     "text": [
      "Saving figure noisy_digit_example_plot\n"
     ]
    },
    {
     "data": {
      "image/png": "[encoded data removed]",
      "text/plain": [
       "<Figure size 432x288 with 2 Axes>"
      ]
     },
     "metadata": {
      "needs_background": "light"
     },
     "output_type": "display_data"
    }
   ],
   "source": [
    "# add noise to the MNIST images\n",
    "noise = np.random.randint(0, 100, (len(X_train), 784))\n",
    "\n",
    "X_train_mod = X_train + noise\n",
    "\n",
    "noise = np.random.randint(0, 100, (len(X_test), 784))\n",
    "\n",
    "X_test_mod = X_test + noise\n",
    "\n",
    "y_train_mod = X_train\n",
    "\n",
    "y_test_mod = X_test\n",
    "\n",
    "# peek at a noisy image from the test set\n",
    "some_index = 0\n",
    "plt.subplot(121); plot_digit(X_test_mod[some_index])\n",
    "plt.subplot(122); plot_digit(y_test_mod[some_index])\n",
    "\n",
    "save_fig(\"noisy_digit_example_plot\")\n",
    "plt.show()"
   ]
  },
  {
   "cell_type": "code",
   "execution_count": 46,
   "id": "4bd841f5",
   "metadata": {},
   "outputs": [
    {
     "data": {
      "image/png": "[encoded data removed]",
      "text/plain": [
       "<Figure size 432x288 with 1 Axes>"
      ]
     },
     "metadata": {
      "needs_background": "light"
     },
     "output_type": "display_data"
    }
   ],
   "source": [
    "# use classifier to clean the above image\n",
    "knn_clf.fit(X_train_mod, y_train_mod)\n",
    "\n",
    "clean_digit = knn_clf.predict([X_test_mod[some_index]])\n",
    "\n",
    "plot_digit(clean_digit)"
   ]
  }
 ],
 "metadata": {
  "kernelspec": {
   "display_name": "Python 3 (ipykernel)",
   "language": "python",
   "name": "python3"
  },
  "language_info": {
   "codemirror_mode": {
    "name": "ipython",
    "version": 3
   },
   "file_extension": ".py",
   "mimetype": "text/x-python",
   "name": "python",
   "nbconvert_exporter": "python",
   "pygments_lexer": "ipython3",
   "version": "3.9.7"
  }
 },
 "nbformat": 4,
 "nbformat_minor": 5
}

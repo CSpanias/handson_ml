{
 "cells": [
  {
   "cell_type": "code",
   "execution_count": 2,
   "id": "9e84f0ef",
   "metadata": {},
   "outputs": [
    {
     "data": {
      "text/plain": [
       "dict_keys(['data', 'target', 'frame', 'categories', 'feature_names', 'target_names', 'DESCR', 'details', 'url'])"
      ]
     },
     "execution_count": 2,
     "metadata": {},
     "output_type": "execute_result"
    }
   ],
   "source": [
    "from sklearn.datasets import fetch_openml\n",
    "\n",
    "# import MNIST dataset\n",
    "mnist = fetch_openml('mnist_784', version=1)\n",
    "\n",
    "# print the keys of the dataset\n",
    "mnist.keys()"
   ]
  },
  {
   "cell_type": "markdown",
   "id": "af123692",
   "metadata": {},
   "source": [
    "Datasets loaded by Scikit-Learn have a dictionary structure:\n",
    "* A **DESCR** key describing the dataset.\n",
    "* A **data** key containing an array (*dataframe?*) with one row per instance and once column per feature.\n",
    "* A **target** key containing an array (*series?*) with the labels."
   ]
  },
  {
   "cell_type": "code",
   "execution_count": 30,
   "id": "fd1a254b",
   "metadata": {},
   "outputs": [
    {
     "data": {
      "text/plain": [
       "(numpy.ndarray, pandas.core.arrays.categorical.Categorical)"
      ]
     },
     "execution_count": 30,
     "metadata": {},
     "output_type": "execute_result"
    }
   ],
   "source": [
    "import numpy as np\n",
    "\n",
    "# assign data to X and target to y\n",
    "X, y = mnist[\"data\"], mnist[\"target\"]\n",
    "\n",
    "# print the shape of X and y\n",
    "X.shape, y.shape\n",
    "\n",
    "# convert X and y to arrays\n",
    "X = X.values\n",
    "y = y.values\n",
    "\n",
    "# check their type\n",
    "type(X), type(y)"
   ]
  },
  {
   "cell_type": "markdown",
   "id": "7c979950",
   "metadata": {},
   "source": [
    "There are 70,000 images (rows) and 784 features (columns). \n",
    "\n",
    "Each feature represents 1 pixel's intensity (1 image = 28 x 28 pixels), from 0 (white) to 255 (black)."
   ]
  },
  {
   "cell_type": "code",
   "execution_count": 31,
   "id": "c5780596",
   "metadata": {},
   "outputs": [
    {
     "data": {
      "image/png": "[encoded data removed]",
      "text/plain": [
       "<Figure size 432x288 with 1 Axes>"
      ]
     },
     "metadata": {
      "needs_background": "light"
     },
     "output_type": "display_data"
    }
   ],
   "source": [
    "import matplotlib as mpl\n",
    "import matplotlib.pyplot as plt\n",
    "\n",
    "# check one digit from the dataset\n",
    "some_digit = X[0]\n",
    "\n",
    "# reshape image to 28 x 28 for a more intuitive representation\n",
    "some_digit_image = some_digit.reshape(28, 28)\n",
    "\n",
    "# show image\n",
    "plt.imshow(some_digit_image, cmap='binary')\n",
    "plt.axis(\"off\")\n",
    "plt.show()"
   ]
  },
  {
   "cell_type": "code",
   "execution_count": 32,
   "id": "4dc2f2eb",
   "metadata": {},
   "outputs": [
    {
     "data": {
      "text/plain": [
       "'5'"
      ]
     },
     "execution_count": 32,
     "metadata": {},
     "output_type": "execute_result"
    }
   ],
   "source": [
    "# check its label\n",
    "y[0]"
   ]
  },
  {
   "cell_type": "markdown",
   "id": "81631fdf",
   "metadata": {},
   "source": [
    "Notice that y is of type object."
   ]
  },
  {
   "cell_type": "code",
   "execution_count": 34,
   "id": "97c499fd",
   "metadata": {},
   "outputs": [
    {
     "data": {
      "text/plain": [
       "pandas.core.arrays.categorical.Categorical"
      ]
     },
     "execution_count": 34,
     "metadata": {},
     "output_type": "execute_result"
    }
   ],
   "source": [
    "# check the data type of y\n",
    "type(y)"
   ]
  },
  {
   "cell_type": "markdown",
   "id": "6892123d",
   "metadata": {},
   "source": [
    "More info on numpy data types [here](https://numpy.org/doc/stable/user/basics.types.html)."
   ]
  },
  {
   "cell_type": "code",
   "execution_count": 41,
   "id": "8ca0b37f",
   "metadata": {},
   "outputs": [
    {
     "data": {
      "text/plain": [
       "dtype('uint8')"
      ]
     },
     "execution_count": 41,
     "metadata": {},
     "output_type": "execute_result"
    }
   ],
   "source": [
    "# convert y to integer\n",
    "y = y.astype(np.uint8)\n",
    "\n",
    "# check type of the y array\n",
    "y.dtype"
   ]
  },
  {
   "cell_type": "markdown",
   "id": "a297714e",
   "metadata": {},
   "source": [
    "Split the data into test and training sets."
   ]
  },
  {
   "cell_type": "code",
   "execution_count": 42,
   "id": "1839dea3",
   "metadata": {},
   "outputs": [],
   "source": [
    "# assign 60_000 rows for training and 10_000 for testing\n",
    "X_train, X_test, y_train, y_test = X[:60_000], X[60_000:], y[:60_000], y[60_000:]"
   ]
  },
  {
   "cell_type": "markdown",
   "id": "4c0ea6a9",
   "metadata": {},
   "source": [
    "<a name=\"BinaryClassification\"> </a>\n",
    "# Training a Binary Classifier\n",
    "\n",
    "Train the **5-detector**, capable of distinguishing between just 2 classes: 5 and not-5."
   ]
  },
  {
   "cell_type": "code",
   "execution_count": 44,
   "id": "101ed86d",
   "metadata": {},
   "outputs": [],
   "source": [
    "# True for all 5s, False for all others\n",
    "y_train_5 = (y_train == 5)\n",
    "\n",
    "y_test_5 = (y_test == 5)"
   ]
  },
  {
   "cell_type": "code",
   "execution_count": 46,
   "id": "3c0b665b",
   "metadata": {},
   "outputs": [
    {
     "data": {
      "text/plain": [
       "array([ True])"
      ]
     },
     "execution_count": 46,
     "metadata": {},
     "output_type": "execute_result"
    }
   ],
   "source": [
    "# train a Stochastic Gradient Descent (SGD) Classifier\n",
    "from sklearn.linear_model import SGDClassifier\n",
    "\n",
    "# create an SGDC instance\n",
    "sgd_clf = SGDClassifier(random_state=42)\n",
    "\n",
    "# fit SGDC on training data\n",
    "sgd_clf.fit(X_train, y_train_5)\n",
    "\n",
    "# make predictions\n",
    "sgd_clf.predict([some_digit])"
   ]
  },
  {
   "cell_type": "markdown",
   "id": "be8edda2",
   "metadata": {},
   "source": [
    "This was indeed a 5!"
   ]
  },
  {
   "cell_type": "code",
   "execution_count": 50,
   "id": "cbe3c406",
   "metadata": {},
   "outputs": [
    {
     "data": {
      "text/plain": [
       "5"
      ]
     },
     "execution_count": 50,
     "metadata": {},
     "output_type": "execute_result"
    }
   ],
   "source": [
    "y[0]"
   ]
  }
 ],
 "metadata": {
  "kernelspec": {
   "display_name": "Python 3 (ipykernel)",
   "language": "python",
   "name": "python3"
  },
  "language_info": {
   "codemirror_mode": {
    "name": "ipython",
    "version": 3
   },
   "file_extension": ".py",
   "mimetype": "text/x-python",
   "name": "python",
   "nbconvert_exporter": "python",
   "pygments_lexer": "ipython3",
   "version": "3.9.7"
  }
 },
 "nbformat": 4,
 "nbformat_minor": 5
}
